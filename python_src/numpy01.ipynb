{
 "cells": [
  {
   "cell_type": "code",
   "execution_count": 1,
   "id": "b3199a6c",
   "metadata": {},
   "outputs": [],
   "source": [
    "import numpy as np"
   ]
  },
  {
   "cell_type": "code",
   "execution_count": 2,
   "id": "157175e6",
   "metadata": {},
   "outputs": [
    {
     "name": "stdout",
     "output_type": "stream",
     "text": [
      "파이썬 리스트: [1, 2, 3, 4, 5]\n",
      "NumPy 1차원 배열: [1 2 3 4 5]\n",
      "배열의 타입: <class 'numpy.ndarray'>\n"
     ]
    }
   ],
   "source": [
    "# 1차원 배열 생성\n",
    "python_list = [1, 2, 3, 4, 5]\n",
    "np_array_1d = np.array(python_list)\n",
    "\n",
    "print(f\"파이썬 리스트: {python_list}\")\n",
    "print(f\"NumPy 1차원 배열: {np_array_1d}\")\n",
    "print(f\"배열의 타입: {type(np_array_1d)}\")"
   ]
  },
  {
   "cell_type": "code",
   "execution_count": 3,
   "id": "14444125",
   "metadata": {},
   "outputs": [
    {
     "name": "stdout",
     "output_type": "stream",
     "text": [
      "\n",
      "NumPy 2차원 배열:\n",
      "[[1 2 3]\n",
      " [4 5 6]]\n"
     ]
    }
   ],
   "source": [
    "# 2차원 배열 (행렬) 생성\n",
    "python_list_2d = [[1, 2, 3], [4, 5, 6]]\n",
    "np_array_2d = np.array(python_list_2d)\n",
    "\n",
    "print(\"\\nNumPy 2차원 배열:\")\n",
    "print(np_array_2d)"
   ]
  },
  {
   "cell_type": "code",
   "execution_count": 4,
   "id": "85055793",
   "metadata": {},
   "outputs": [
    {
     "name": "stdout",
     "output_type": "stream",
     "text": [
      "\n",
      "1D 배열 차원: 1\n",
      "1D 배열 형태: (5,)\n",
      "1D 배열 타입: int64\n"
     ]
    }
   ],
   "source": [
    "# 1차원 배열의 속성\n",
    "print(f\"\\n1D 배열 차원: {np_array_1d.ndim}\")   # 출력: 1\n",
    "print(f\"1D 배열 형태: {np_array_1d.shape}\") # 출력: (5,)\n",
    "print(f\"1D 배열 타입: {np_array_1d.dtype}\") # 출력: int32 또는 int64"
   ]
  },
  {
   "cell_type": "code",
   "execution_count": 5,
   "id": "35fe9348",
   "metadata": {},
   "outputs": [
    {
     "name": "stdout",
     "output_type": "stream",
     "text": [
      "\n",
      "2D 배열 차원: 2\n",
      "2D 배열 형태: (2, 3)\n",
      "2D 배열 타입: int64\n"
     ]
    }
   ],
   "source": [
    "# 2차원 배열의 속성\n",
    "print(f\"\\n2D 배열 차원: {np_array_2d.ndim}\")   # 출력: 2\n",
    "print(f\"2D 배열 형태: {np_array_2d.shape}\") # 출력: (2, 3) -> 2행 3열\n",
    "print(f\"2D 배열 타입: {np_array_2d.dtype}\") # 출력: int32 또는 int64"
   ]
  },
  {
   "cell_type": "code",
   "execution_count": 6,
   "id": "a6ed7a7f",
   "metadata": {},
   "outputs": [
    {
     "name": "stdout",
     "output_type": "stream",
     "text": [
      "0으로 채워진 배열:\n",
      " [[0. 0. 0. 0.]\n",
      " [0. 0. 0. 0.]\n",
      " [0. 0. 0. 0.]]\n"
     ]
    }
   ],
   "source": [
    "# 0으로 채워진 3x4 배열 생성\n",
    "zeros_arr = np.zeros((3, 4))\n",
    "print(\"0으로 채워진 배열:\\n\", zeros_arr)"
   ]
  },
  {
   "cell_type": "code",
   "execution_count": 7,
   "id": "d8f5e0fb",
   "metadata": {},
   "outputs": [
    {
     "name": "stdout",
     "output_type": "stream",
     "text": [
      "\n",
      "1로 채워진 배열:\n",
      " [[1. 1. 1.]\n",
      " [1. 1. 1.]]\n"
     ]
    }
   ],
   "source": [
    "# 1로 채워진 2x3 배열 생성\n",
    "ones_arr = np.ones((2, 3))\n",
    "print(\"\\n1로 채워진 배열:\\n\", ones_arr)"
   ]
  },
  {
   "cell_type": "code",
   "execution_count": 8,
   "id": "b4481b4a",
   "metadata": {},
   "outputs": [
    {
     "name": "stdout",
     "output_type": "stream",
     "text": [
      "\n",
      "arange를 이용한 배열: [0 1 2 3 4 5 6 7 8 9]\n"
     ]
    }
   ],
   "source": [
    "# 0부터 9까지의 숫자로 배열 생성 (파이썬의 range와 유사)\n",
    "range_arr = np.arange(10)\n",
    "print(\"\\narange를 이용한 배열:\", range_arr)"
   ]
  },
  {
   "cell_type": "code",
   "execution_count": 9,
   "id": "414a4be8",
   "metadata": {},
   "outputs": [
    {
     "name": "stdout",
     "output_type": "stream",
     "text": [
      "\n",
      "step이 있는 arange 배열: [ 2  4  6  8 10]\n"
     ]
    }
   ],
   "source": [
    "# 2부터 10까지 2씩 증가하는 숫자로 배열 생성\n",
    "step_arr = np.arange(2, 11, 2)\n",
    "print(\"\\nstep이 있는 arange 배열:\", step_arr)"
   ]
  },
  {
   "cell_type": "code",
   "execution_count": 10,
   "id": "c013de5d",
   "metadata": {},
   "outputs": [],
   "source": [
    "arr1 = np.array([1, 2, 3, 4])\n",
    "arr2 = np.array([5, 6, 7, 8])"
   ]
  },
  {
   "cell_type": "code",
   "execution_count": 11,
   "id": "0703c7c0",
   "metadata": {},
   "outputs": [
    {
     "name": "stdout",
     "output_type": "stream",
     "text": [
      "덧셈: [ 6  8 10 12]\n"
     ]
    }
   ],
   "source": [
    "# 덧셈\n",
    "print(\"덧셈:\", arr1 + arr2)  # 출력: [ 6  8 10 12]"
   ]
  },
  {
   "cell_type": "code",
   "execution_count": 13,
   "id": "b9cd915f",
   "metadata": {},
   "outputs": [
    {
     "name": "stdout",
     "output_type": "stream",
     "text": [
      "뺄셈: [4 4 4 4]\n"
     ]
    }
   ],
   "source": [
    "# 뺄셈\n",
    "print(\"뺄셈:\", arr2 - arr1)  # 출력: [4 4 4 4]"
   ]
  },
  {
   "cell_type": "code",
   "execution_count": 14,
   "id": "74122220",
   "metadata": {},
   "outputs": [
    {
     "name": "stdout",
     "output_type": "stream",
     "text": [
      "곱셈: [ 5 12 21 32]\n"
     ]
    }
   ],
   "source": [
    "# 곱셈\n",
    "print(\"곱셈:\", arr1 * arr2)  # 출력: [ 5 12 21 32]"
   ]
  },
  {
   "cell_type": "code",
   "execution_count": 15,
   "id": "661fb08b",
   "metadata": {},
   "outputs": [
    {
     "name": "stdout",
     "output_type": "stream",
     "text": [
      "나눗셈: [5.         3.         2.33333333 2.        ]\n"
     ]
    }
   ],
   "source": [
    "# 나눗셈\n",
    "print(\"나눗셈:\", arr2 / arr1)  # 출력: [5.  3.  2.333... 2. ]"
   ]
  },
  {
   "cell_type": "code",
   "execution_count": 16,
   "id": "9a854e53",
   "metadata": {},
   "outputs": [
    {
     "name": "stdout",
     "output_type": "stream",
     "text": [
      "\n",
      "스칼라 곱셈: [10 20 30 40]\n",
      "스칼라 덧셈: [6 7 8 9]\n"
     ]
    }
   ],
   "source": [
    "# 스칼라(단일 값) 연산\n",
    "print(\"\\n스칼라 곱셈:\", arr1 * 10) # 출력: [10 20 30 40]\n",
    "print(\"스칼라 덧셈:\", arr1 + 5) # 출력: [6 7 8 9]"
   ]
  },
  {
   "cell_type": "code",
   "execution_count": 17,
   "id": "f9038172",
   "metadata": {},
   "outputs": [],
   "source": [
    "# 2차원 배열 인덱싱/슬라이싱\n",
    "arr2d = np.array([[1, 2, 3],\n",
    "                  [4, 5, 6],\n",
    "                  [7, 8, 9]])"
   ]
  },
  {
   "cell_type": "code",
   "execution_count": 18,
   "id": "a6b7c27f",
   "metadata": {},
   "outputs": [
    {
     "name": "stdout",
     "output_type": "stream",
     "text": [
      "\n",
      "2행 3열의 원소: 6\n"
     ]
    }
   ],
   "source": [
    "# 2행 3열의 원소 (0부터 시작)\n",
    "print(\"\\n2행 3열의 원소:\", arr2d[1, 2]) # 출력: 6"
   ]
  },
  {
   "cell_type": "code",
   "execution_count": 19,
   "id": "069687be",
   "metadata": {},
   "outputs": [
    {
     "name": "stdout",
     "output_type": "stream",
     "text": [
      "첫 번째 행: [1 2 3]\n"
     ]
    }
   ],
   "source": [
    "# 첫 번째 행 전체 가져오기\n",
    "print(\"첫 번째 행:\", arr2d[0, :]) # 출력: [1 2 3]"
   ]
  },
  {
   "cell_type": "code",
   "execution_count": 20,
   "id": "3f2e7d2c",
   "metadata": {},
   "outputs": [
    {
     "name": "stdout",
     "output_type": "stream",
     "text": [
      "두 번째 열: [2 5 8]\n"
     ]
    }
   ],
   "source": [
    "# 두 번째 열 전체 가져오기\n",
    "print(\"두 번째 열:\", arr2d[:, 1]) # 출력: [2 5 8]"
   ]
  },
  {
   "cell_type": "code",
   "execution_count": 22,
   "id": "e1543f4a",
   "metadata": {},
   "outputs": [],
   "source": [
    "# NumPy는 합계, 평균, 표준편차 등 기본적인 통계 함수를 쉽게 계산\n",
    "data = np.array([[1, 2, 3], [4, 5, 6]])"
   ]
  },
  {
   "cell_type": "code",
   "execution_count": 23,
   "id": "80e81e62",
   "metadata": {},
   "outputs": [
    {
     "name": "stdout",
     "output_type": "stream",
     "text": [
      "전체 합계: 21\n"
     ]
    }
   ],
   "source": [
    "# 전체 합계\n",
    "print(\"전체 합계:\", np.sum(data)) # 출력: 21"
   ]
  },
  {
   "cell_type": "code",
   "execution_count": 24,
   "id": "712d31b8",
   "metadata": {},
   "outputs": [
    {
     "name": "stdout",
     "output_type": "stream",
     "text": [
      "전체 평균: 3.5\n"
     ]
    }
   ],
   "source": [
    "# 전체 평균\n",
    "print(\"전체 평균:\", np.mean(data)) # 출력: 3.5"
   ]
  },
  {
   "cell_type": "code",
   "execution_count": 25,
   "id": "899ea6c8",
   "metadata": {},
   "outputs": [
    {
     "name": "stdout",
     "output_type": "stream",
     "text": [
      "각 열의 합계: [5 7 9]\n"
     ]
    }
   ],
   "source": [
    "# 각 열(column)의 합계 (axis=0)\n",
    "print(\"각 열의 합계:\", np.sum(data, axis=0)) # 출력: [5 7 9]"
   ]
  },
  {
   "cell_type": "code",
   "execution_count": 26,
   "id": "b65ef456",
   "metadata": {},
   "outputs": [
    {
     "name": "stdout",
     "output_type": "stream",
     "text": [
      "각 행의 합계: [ 6 15]\n"
     ]
    }
   ],
   "source": [
    "# 각 행(row)의 합계 (axis=1)\n",
    "print(\"각 행의 합계:\", np.sum(data, axis=1)) # 출력: [ 6 15]"
   ]
  },
  {
   "cell_type": "code",
   "execution_count": 27,
   "id": "a397805e",
   "metadata": {},
   "outputs": [
    {
     "name": "stdout",
     "output_type": "stream",
     "text": [
      "최대값: 6\n",
      "최소값: 1\n"
     ]
    }
   ],
   "source": [
    "# 최대값, 최소값\n",
    "print(\"최대값:\", np.max(data)) # 출력: 6\n",
    "print(\"최소값:\", np.min(data)) # 출력: 1"
   ]
  },
  {
   "cell_type": "code",
   "execution_count": null,
   "id": "a3efdbaa",
   "metadata": {},
   "outputs": [],
   "source": []
  }
 ],
 "metadata": {
  "kernelspec": {
   "display_name": "Python 3",
   "language": "python",
   "name": "python3"
  },
  "language_info": {
   "codemirror_mode": {
    "name": "ipython",
    "version": 3
   },
   "file_extension": ".py",
   "mimetype": "text/x-python",
   "name": "python",
   "nbconvert_exporter": "python",
   "pygments_lexer": "ipython3",
   "version": "3.11.9"
  }
 },
 "nbformat": 4,
 "nbformat_minor": 5
}
