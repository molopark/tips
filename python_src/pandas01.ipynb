{
 "cells": [
  {
   "cell_type": "code",
   "execution_count": 1,
   "id": "06040c75",
   "metadata": {},
   "outputs": [],
   "source": [
    "import numpy as np\n",
    "import pandas as pd"
   ]
  },
  {
   "cell_type": "code",
   "execution_count": 2,
   "id": "eb9cea73",
   "metadata": {},
   "outputs": [
    {
     "name": "stdout",
     "output_type": "stream",
     "text": [
      "1D NumPy 배열:\n",
      " [1 2 3 4 5]\n"
     ]
    }
   ],
   "source": [
    "# 1차원 NumPy 배열 생성\n",
    "np_arr_1d = np.arange(1, 6)\n",
    "print(\"1D NumPy 배열:\\n\", np_arr_1d)"
   ]
  },
  {
   "cell_type": "code",
   "execution_count": 3,
   "id": "2318c929",
   "metadata": {},
   "outputs": [
    {
     "name": "stdout",
     "output_type": "stream",
     "text": [
      "\n",
      "Pandas Series:\n",
      " 0    1\n",
      "1    2\n",
      "2    3\n",
      "3    4\n",
      "4    5\n",
      "Name: MyNumbers, dtype: int64\n",
      "------------------------------\n"
     ]
    }
   ],
   "source": [
    "# NumPy 배열로 Pandas Series 만들기\n",
    "pd_series = pd.Series(np_arr_1d, name='MyNumbers')\n",
    "print(\"\\nPandas Series:\\n\", pd_series)\n",
    "print(\"-\" * 30)"
   ]
  },
  {
   "cell_type": "code",
   "execution_count": 4,
   "id": "8bd58e06",
   "metadata": {},
   "outputs": [
    {
     "name": "stdout",
     "output_type": "stream",
     "text": [
      "2D NumPy 배열:\n",
      " [[1 2 3]\n",
      " [4 5 6]\n",
      " [7 8 9]]\n"
     ]
    }
   ],
   "source": [
    "# 2차원 NumPy 배열 생성\n",
    "np_arr_2d = np.array([[1, 2, 3], [4, 5, 6], [7, 8, 9]])\n",
    "print(\"2D NumPy 배열:\\n\", np_arr_2d)"
   ]
  },
  {
   "cell_type": "code",
   "execution_count": 5,
   "id": "f68ef728",
   "metadata": {},
   "outputs": [
    {
     "name": "stdout",
     "output_type": "stream",
     "text": [
      "\n",
      "Pandas DataFrame:\n",
      "    A  B  C\n",
      "0  1  2  3\n",
      "1  4  5  6\n",
      "2  7  8  9\n"
     ]
    }
   ],
   "source": [
    "# NumPy 배열로 Pandas DataFrame 만들기\n",
    "# 컬럼 이름을 지정해주면 더 의미있는 데이터 구조가 됩니다.\n",
    "pd_df = pd.DataFrame(np_arr_2d, columns=['A', 'B', 'C'])\n",
    "print(\"\\nPandas DataFrame:\\n\", pd_df)"
   ]
  },
  {
   "cell_type": "code",
   "execution_count": 6,
   "id": "fb7aa948",
   "metadata": {},
   "outputs": [
    {
     "name": "stdout",
     "output_type": "stream",
     "text": [
      "DataFrame에서 변환된 NumPy 배열:\n",
      " [[1 2 3]\n",
      " [4 5 6]\n",
      " [7 8 9]]\n",
      "\n",
      "변환된 배열의 타입: <class 'numpy.ndarray'>\n"
     ]
    }
   ],
   "source": [
    "# DataFrame을 다시 NumPy 배열로 변환\n",
    "# .to_numpy() 사용을 권장합니다.\n",
    "numpy_from_df = pd_df.to_numpy()\n",
    "print(\"DataFrame에서 변환된 NumPy 배열:\\n\", numpy_from_df)\n",
    "print(\"\\n변환된 배열의 타입:\", type(numpy_from_df))"
   ]
  },
  {
   "cell_type": "code",
   "execution_count": 7,
   "id": "b599a79f",
   "metadata": {},
   "outputs": [
    {
     "name": "stdout",
     "output_type": "stream",
     "text": [
      "\n",
      "Series에서 변환된 NumPy 배열: [1 2 3 4 5]\n"
     ]
    }
   ],
   "source": [
    "# Series도 마찬가지입니다.\n",
    "numpy_from_series = pd_series.to_numpy()\n",
    "print(\"\\nSeries에서 변환된 NumPy 배열:\", numpy_from_series)"
   ]
  },
  {
   "cell_type": "code",
   "execution_count": 8,
   "id": "c0e38044",
   "metadata": {},
   "outputs": [
    {
     "name": "stdout",
     "output_type": "stream",
     "text": [
      "원본 DataFrame:\n",
      "     A   B     C\n",
      "0   1  10   100\n",
      "1   4  20   400\n",
      "2   9  30   900\n",
      "3  16  40  1600\n"
     ]
    }
   ],
   "source": [
    "data = {'A': [1, 4, 9, 16],\n",
    "        'B': [10, 20, 30, 40],\n",
    "        'C': [100, 400, 900, 1600]}\n",
    "df = pd.DataFrame(data)\n",
    "print(\"원본 DataFrame:\\n\", df)"
   ]
  },
  {
   "cell_type": "code",
   "execution_count": 9,
   "id": "908a1edf",
   "metadata": {},
   "outputs": [
    {
     "name": "stdout",
     "output_type": "stream",
     "text": [
      "\n",
      "제곱근 계산 후 DataFrame:\n",
      "      A         B     C\n",
      "0  1.0  3.162278  10.0\n",
      "1  2.0  4.472136  20.0\n",
      "2  3.0  5.477226  30.0\n",
      "3  4.0  6.324555  40.0\n"
     ]
    }
   ],
   "source": [
    "# DataFrame 전체에 np.sqrt (제곱근) 함수 적용\n",
    "df_sqrt = np.sqrt(df)\n",
    "print(\"\\n제곱근 계산 후 DataFrame:\\n\", df_sqrt)"
   ]
  },
  {
   "cell_type": "code",
   "execution_count": 10,
   "id": "a3571820",
   "metadata": {},
   "outputs": [
    {
     "name": "stdout",
     "output_type": "stream",
     "text": [
      "\n",
      "'B' 열에 로그 계산:\n",
      " 0    2.302585\n",
      "1    2.995732\n",
      "2    3.401197\n",
      "3    3.688879\n",
      "Name: B, dtype: float64\n"
     ]
    }
   ],
   "source": [
    "# 특정 열(Series)에 np.log (자연로그) 함수 적용\n",
    "log_of_B = np.log(df['B'])\n",
    "print(\"\\n'B' 열에 로그 계산:\\n\", log_of_B)"
   ]
  },
  {
   "cell_type": "code",
   "execution_count": 11,
   "id": "0d317c55",
   "metadata": {},
   "outputs": [
    {
     "name": "stdout",
     "output_type": "stream",
     "text": [
      "원본 점수 DataFrame:\n",
      "       name  score\n",
      "0    Alice     88\n",
      "1      Bob     45\n",
      "2  Charlie     95\n",
      "3    David     60\n",
      "4      Eve     75\n"
     ]
    }
   ],
   "source": [
    "# NumPy의 np.where() 함수를 사용하면 Pandas DataFrame에서 특정 조건에 따라 값을 효율적으로 변경.\n",
    "# np.where(condition, value_if_true, value_if_false) 형태로 사용\n",
    "# 학생들의 점수 데이터가 담긴 DataFrame 생성\n",
    "scores_df = pd.DataFrame({\n",
    "    'name': ['Alice', 'Bob', 'Charlie', 'David', 'Eve'],\n",
    "    'score': [88, 45, 95, 60, 75]\n",
    "})\n",
    "print(\"원본 점수 DataFrame:\\n\", scores_df)"
   ]
  },
  {
   "cell_type": "code",
   "execution_count": 12,
   "id": "bfe47467",
   "metadata": {},
   "outputs": [
    {
     "name": "stdout",
     "output_type": "stream",
     "text": [
      "\n",
      "결과가 추가된 DataFrame:\n",
      "       name  score Result\n",
      "0    Alice     88   Pass\n",
      "1      Bob     45   Fail\n",
      "2  Charlie     95   Pass\n",
      "3    David     60   Fail\n",
      "4      Eve     75   Pass\n"
     ]
    }
   ],
   "source": [
    "# 점수가 70점 이상이면 'Pass', 미만이면 'Fail'을 부여하는 'Result' 열 추가\n",
    "# scores_df['score'] >= 70 이라는 Pandas 조건식을 np.where에 바로 사용 가능\n",
    "scores_df['Result'] = np.where(scores_df['score'] >= 70, 'Pass', 'Fail')\n",
    "print(\"\\n결과가 추가된 DataFrame:\\n\", scores_df)"
   ]
  },
  {
   "cell_type": "code",
   "execution_count": null,
   "id": "c250b6a5",
   "metadata": {},
   "outputs": [],
   "source": []
  }
 ],
 "metadata": {
  "kernelspec": {
   "display_name": "Python 3",
   "language": "python",
   "name": "python3"
  },
  "language_info": {
   "codemirror_mode": {
    "name": "ipython",
    "version": 3
   },
   "file_extension": ".py",
   "mimetype": "text/x-python",
   "name": "python",
   "nbconvert_exporter": "python",
   "pygments_lexer": "ipython3",
   "version": "3.11.9"
  }
 },
 "nbformat": 4,
 "nbformat_minor": 5
}
